{
 "cells": [
  {
   "cell_type": "markdown",
   "metadata": {},
   "source": [
    "# Tennis Project"
   ]
  },
  {
   "cell_type": "code",
   "execution_count": 1,
   "metadata": {},
   "outputs": [],
   "source": [
    "# Uncomment to install dependencies\n",
    "# !pip -q install ./python"
   ]
  },
  {
   "cell_type": "code",
   "execution_count": 2,
   "metadata": {},
   "outputs": [
    {
     "name": "stderr",
     "output_type": "stream",
     "text": [
      "INFO:unityagents:\n",
      "'Academy' started successfully!\n",
      "Unity Academy name: Academy\n",
      "        Number of Brains: 1\n",
      "        Number of External Brains : 1\n",
      "        Lesson number : 0\n",
      "        Reset Parameters :\n",
      "\t\t\n",
      "Unity brain name: TennisBrain\n",
      "        Number of Visual Observations (per agent): 0\n",
      "        Vector Observation space type: continuous\n",
      "        Vector Observation space size (per agent): 8\n",
      "        Number of stacked Vector Observation: 3\n",
      "        Vector Action space type: continuous\n",
      "        Vector Action space size (per agent): 2\n",
      "        Vector Action descriptions: , \n"
     ]
    }
   ],
   "source": [
    "import numpy as np\n",
    "from collections import deque\n",
    "import torch\n",
    "\n",
    "from agent import Agent\n",
    "\n",
    "import matplotlib.pyplot as plt\n",
    "\n",
    "from unityagents import UnityEnvironment\n",
    "import numpy as np\n",
    "\n",
    "# Change file_name to the place of your environment file\n",
    "env = UnityEnvironment(file_name=\"./Tennis_Linux/Tennis.x86_64\")"
   ]
  },
  {
   "cell_type": "code",
   "execution_count": 3,
   "metadata": {},
   "outputs": [],
   "source": [
    "# get the default brain\n",
    "brain_name = env.brain_names[0]\n",
    "brain = env.brains[brain_name]\n",
    "\n",
    "# reset the environment\n",
    "env_info = env.reset(train_mode=True)[brain_name]\n",
    "\n",
    "# number of agents \n",
    "n_agents = len(env_info.agents)\n",
    "\n",
    "# size of each action\n",
    "action_size = brain.vector_action_space_size\n",
    "\n",
    "# size of each state\n",
    "states = env_info.vector_observations\n",
    "state_size = states.shape[1]"
   ]
  },
  {
   "cell_type": "code",
   "execution_count": 4,
   "metadata": {},
   "outputs": [],
   "source": [
    "# Test the environment\n",
    "env_info = env.reset(train_mode=False)[brain_name]     # reset the environment    \n",
    "for _ in range(5):\n",
    "    actions = np.random.randn(n_agents, action_size) # select an action (for each agent)\n",
    "    actions = np.clip(actions, -1, 1)                  # all actions between -1 and 1\n",
    "    env_info = env.step(actions)[brain_name]           # send all actions to tne environment\n"
   ]
  },
  {
   "cell_type": "markdown",
   "metadata": {},
   "source": [
    "### Define the simulation function"
   ]
  },
  {
   "cell_type": "code",
   "execution_count": 5,
   "metadata": {},
   "outputs": [],
   "source": [
    "def ddpg(agent, env, n_episodes=5000, train_mode=True):\n",
    "    \n",
    "    brain_name = env.brain_names[0]\n",
    "    env_info = env.reset(train_mode=train_mode)[brain_name]\n",
    "    n_agents = len(env_info.agents)\n",
    "    \n",
    "    scores_deque = deque(maxlen=100)\n",
    "    scores = []\n",
    "\n",
    "    for i_episode in range(1, n_episodes+1):\n",
    "        \n",
    "        env_info = env.reset(train_mode=train_mode)[brain_name]      # reset the environment\n",
    "        states = env_info.vector_observations                        # get the current state (for each agent)\n",
    "        agent.reset()\n",
    "        \n",
    "        score = np.zeros(n_agents)\n",
    "        done = False\n",
    "                \n",
    "        while not done:\n",
    "\n",
    "            actions = agent.act(states)\n",
    "\n",
    "            actions = np.clip(actions, -1, 1)                  # all actions between -1 and 1\n",
    "            env_info = env.step(actions)[brain_name]           # send all actions to tne environment\n",
    "            next_states = env_info.vector_observations         # get next state (for each agent)\n",
    "            rewards = env_info.rewards                         # get reward (for each agent)\n",
    "            dones = env_info.local_done                        # see if episode finished\n",
    "            \n",
    "            if train_mode:\n",
    "                for i in range(n_agents):\n",
    "                    agent.step(states[i], actions[i], rewards[i], next_states[i], dones[i],)\n",
    "            \n",
    "            states = next_states\n",
    "            score += rewards\n",
    "            done = True in dones\n",
    "            \n",
    "        scores_deque.append(np.max(score))\n",
    "        scores.append(np.max(score))\n",
    "\n",
    "        if train_mode:\n",
    "            print('\\r Episode {}\\tAverage Score: {:.2f}\\tScore: {:.2f}'.format(i_episode, np.mean(scores_deque), np.max(score)), end=\"\")\n",
    "            if i_episode % 100 == 0:\n",
    "                torch.save(agent.actor_local.state_dict(), 'checkpoint_actor.pth')\n",
    "                torch.save(agent.critic_local.state_dict(), 'checkpoint_critic.pth')\n",
    "                print('\\r Episode {}\\tAverage Score: {:.2f}'.format(i_episode, np.mean(scores_deque)))\n",
    "            if np.mean(scores_deque) >= 0.5:\n",
    "                break\n",
    "        else:\n",
    "            print(' Episode {}\\tScore: {:.2f}'.format(i_episode, np.max(score)))\n",
    "            \n",
    "\n",
    "    return scores"
   ]
  },
  {
   "cell_type": "markdown",
   "metadata": {},
   "source": [
    "### Train the agent"
   ]
  },
  {
   "cell_type": "code",
   "execution_count": 6,
   "metadata": {},
   "outputs": [
    {
     "name": "stdout",
     "output_type": "stream",
     "text": [
      " Episode 100\tAverage Score: 0.00\tScore: 0.00\n",
      " Episode 200\tAverage Score: 0.00\tScore: 0.00\n",
      " Episode 300\tAverage Score: 0.01\tScore: 0.00\n",
      " Episode 400\tAverage Score: 0.00\tScore: 0.00\n",
      " Episode 500\tAverage Score: 0.00\tScore: 0.00\n",
      " Episode 600\tAverage Score: 0.01\tScore: 0.00\n",
      " Episode 700\tAverage Score: 0.00\tScore: 0.00\n",
      " Episode 800\tAverage Score: 0.01\tScore: 0.09\n",
      " Episode 900\tAverage Score: 0.07\tScore: 0.09\n",
      " Episode 1000\tAverage Score: 0.09\tScore: 0.10\n",
      " Episode 1100\tAverage Score: 0.10\tScore: 0.00\n",
      " Episode 1200\tAverage Score: 0.11\tScore: 0.10\n",
      " Episode 1300\tAverage Score: 0.23\tScore: 0.30\n",
      " Episode 1400\tAverage Score: 0.18\tScore: 0.29\n",
      " Episode 1500\tAverage Score: 0.19\tScore: 0.30\n",
      " Episode 1600\tAverage Score: 0.18\tScore: 0.10\n",
      " Episode 1700\tAverage Score: 0.29\tScore: 0.80\n",
      " Episode 1735\tAverage Score: 0.50\tScore: 2.50"
     ]
    },
    {
     "data": {
      "image/png": "[encoded data removed]",
      "text/plain": [
       "<Figure size 432x288 with 1 Axes>"
      ]
     },
     "metadata": {
      "needs_background": "light"
     },
     "output_type": "display_data"
    }
   ],
   "source": [
    "agent = Agent(state_size, action_size, num_agents=n_agents, update_every=n_agents)\n",
    "\n",
    "scores = ddpg(agent, env)\n",
    "\n",
    "fig = plt.figure()\n",
    "ax = fig.add_subplot(111)\n",
    "plt.plot(np.arange(1, len(scores)+1), scores)\n",
    "plt.ylabel('Score')\n",
    "plt.xlabel('Episode #')\n",
    "plt.show()"
   ]
  },
  {
   "cell_type": "markdown",
   "metadata": {},
   "source": [
    "## Demo"
   ]
  },
  {
   "cell_type": "code",
   "execution_count": null,
   "metadata": {},
   "outputs": [
    {
     "name": "stdout",
     "output_type": "stream",
     "text": [
      " Episode 1\tScore: 0.20\n",
      " Episode 2\tScore: 0.60\n",
      " Episode 3\tScore: 0.40\n",
      " Episode 4\tScore: 1.70\n",
      " Episode 5\tScore: 0.00\n",
      " Episode 6\tScore: 2.10\n",
      " Episode 7\tScore: 1.10\n",
      " Episode 8\tScore: 0.20\n",
      " Episode 9\tScore: 0.00\n",
      " Episode 10\tScore: 2.60\n",
      " Episode 11\tScore: 0.00\n",
      " Episode 12\tScore: 0.00\n",
      " Episode 13\tScore: 0.10\n",
      " Episode 14\tScore: 0.00\n",
      " Episode 15\tScore: 0.50\n",
      " Episode 16\tScore: 0.80\n",
      " Episode 17\tScore: 1.80\n",
      " Episode 18\tScore: 0.80\n"
     ]
    }
   ],
   "source": [
    "ddpg(agent, env, n_episodes=20, train_mode=False)"
   ]
  },
  {
   "cell_type": "code",
   "execution_count": null,
   "metadata": {},
   "outputs": [],
   "source": [
    "# Close the environment\n",
    "env.close()"
   ]
  },
  {
   "cell_type": "code",
   "execution_count": null,
   "metadata": {},
   "outputs": [],
   "source": [
    "# plot the learning curve\n",
    "\n",
    "# Compute the rolling average\n",
    "rolling_avg = np.zeros(len(scores))\n",
    "for i in range(99, len(scores)):\n",
    "    rolling_avg[i] = np.mean(scores[i-99:i+1])\n",
    "\n",
    "# Create a 16x9 figure\n",
    "fig, ax = plt.subplots(figsize=(16,9))\n",
    "\n",
    "# Plot both curves over the same axis\n",
    "ax.plot(range(len(scores)), scores, label='Score', color='blue', alpha=0.75)\n",
    "ax.plot(range(len(rolling_avg)), rolling_avg, label='Rolling average', color='red')\n",
    "ax.axhline(0, color='black', alpha=0.3)\n",
    "ax.axhline(0.5, color='green')\n",
    "\n",
    "ax.set_title('Agent\\'s score')\n",
    "ax.legend()\n",
    "plt.ylabel('Score')\n",
    "plt.xlabel('Episode #')\n",
    "plt.savefig('Score_over_train.png')\n",
    "plt.show()"
   ]
  }
 ],
 "metadata": {
  "kernelspec": {
   "display_name": "drlnd",
   "language": "python",
   "name": "drlnd"
  },
  "language_info": {
   "codemirror_mode": {
    "name": "ipython",
    "version": 3
   },
   "file_extension": ".py",
   "mimetype": "text/x-python",
   "name": "python",
   "nbconvert_exporter": "python",
   "pygments_lexer": "ipython3",
   "version": "3.6.10"
  }
 },
 "nbformat": 4,
 "nbformat_minor": 2
}
